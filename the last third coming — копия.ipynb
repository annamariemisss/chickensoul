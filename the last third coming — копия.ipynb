{
 "cells": [
  {
   "cell_type": "code",
   "execution_count": 1,
   "id": "5c13511e",
   "metadata": {},
   "outputs": [],
   "source": [
    "#загрузка библиотек\n",
    "import sklearn\n",
    "import pandas as pd\n",
    "import seaborn as sns\n",
    "import matplotlib.pyplot as plt\n",
    "from sklearn.decomposition import PCA\n",
    "from sklearn.preprocessing import MinMaxScaler\n",
    "\n",
    "#Кластеризация\n",
    "from sklearn.cluster import KMeans\n",
    "from sklearn.cluster import MiniBatchKMeans\n",
    "from sklearn.mixture import GaussianMixture\n",
    "import matplotlib as mpl\n",
    "from matplotlib.colors import ListedColormap, LinearSegmentedColormap\n",
    "\n",
    "%matplotlib inline"
   ]
  },
  {
   "cell_type": "markdown",
   "id": "ad9c4e76",
   "metadata": {},
   "source": [
    "https://digitrain.ru/articles/13812/\n",
    "    \n",
    "https://pythonru.com/uroki/sklearn-kmeans-i-knn\n",
    "\n",
    "https://www.dominodatalab.com/blog/getting-started-with-k-means-clustering-in-python"
   ]
  },
  {
   "cell_type": "markdown",
   "id": "34e75e9d",
   "metadata": {},
   "source": [
    "Парсинг"
   ]
  },
  {
   "cell_type": "code",
   "execution_count": 2,
   "id": "310eaf79",
   "metadata": {},
   "outputs": [
    {
     "ename": "FileNotFoundError",
     "evalue": "[Errno 2] No such file or directory: ''",
     "output_type": "error",
     "traceback": [
      "\u001b[1;31m---------------------------------------------------------------------------\u001b[0m",
      "\u001b[1;31mFileNotFoundError\u001b[0m                         Traceback (most recent call last)",
      "\u001b[1;32m<ipython-input-2-4bba8f09e891>\u001b[0m in \u001b[0;36m<module>\u001b[1;34m\u001b[0m\n\u001b[1;32m----> 1\u001b[1;33m \u001b[0mdf_us\u001b[0m \u001b[1;33m=\u001b[0m \u001b[0mpd\u001b[0m\u001b[1;33m.\u001b[0m\u001b[0mread_csv\u001b[0m\u001b[1;33m(\u001b[0m\u001b[1;34m''\u001b[0m\u001b[1;33m,\u001b[0m \u001b[0mdelimiter\u001b[0m\u001b[1;33m=\u001b[0m\u001b[1;34m';'\u001b[0m\u001b[1;33m,\u001b[0m \u001b[0mlow_memory\u001b[0m\u001b[1;33m=\u001b[0m\u001b[1;32mFalse\u001b[0m\u001b[1;33m)\u001b[0m\u001b[1;33m\u001b[0m\u001b[1;33m\u001b[0m\u001b[0m\n\u001b[0m\u001b[0;32m      2\u001b[0m \u001b[0mdf_us\u001b[0m\u001b[1;33m\u001b[0m\u001b[1;33m\u001b[0m\u001b[0m\n",
      "\u001b[1;32m~\\anaconda3\\lib\\site-packages\\pandas\\io\\parsers.py\u001b[0m in \u001b[0;36mread_csv\u001b[1;34m(filepath_or_buffer, sep, delimiter, header, names, index_col, usecols, squeeze, prefix, mangle_dupe_cols, dtype, engine, converters, true_values, false_values, skipinitialspace, skiprows, skipfooter, nrows, na_values, keep_default_na, na_filter, verbose, skip_blank_lines, parse_dates, infer_datetime_format, keep_date_col, date_parser, dayfirst, cache_dates, iterator, chunksize, compression, thousands, decimal, lineterminator, quotechar, quoting, doublequote, escapechar, comment, encoding, dialect, error_bad_lines, warn_bad_lines, delim_whitespace, low_memory, memory_map, float_precision, storage_options)\u001b[0m\n\u001b[0;32m    608\u001b[0m     \u001b[0mkwds\u001b[0m\u001b[1;33m.\u001b[0m\u001b[0mupdate\u001b[0m\u001b[1;33m(\u001b[0m\u001b[0mkwds_defaults\u001b[0m\u001b[1;33m)\u001b[0m\u001b[1;33m\u001b[0m\u001b[1;33m\u001b[0m\u001b[0m\n\u001b[0;32m    609\u001b[0m \u001b[1;33m\u001b[0m\u001b[0m\n\u001b[1;32m--> 610\u001b[1;33m     \u001b[1;32mreturn\u001b[0m \u001b[0m_read\u001b[0m\u001b[1;33m(\u001b[0m\u001b[0mfilepath_or_buffer\u001b[0m\u001b[1;33m,\u001b[0m \u001b[0mkwds\u001b[0m\u001b[1;33m)\u001b[0m\u001b[1;33m\u001b[0m\u001b[1;33m\u001b[0m\u001b[0m\n\u001b[0m\u001b[0;32m    611\u001b[0m \u001b[1;33m\u001b[0m\u001b[0m\n\u001b[0;32m    612\u001b[0m \u001b[1;33m\u001b[0m\u001b[0m\n",
      "\u001b[1;32m~\\anaconda3\\lib\\site-packages\\pandas\\io\\parsers.py\u001b[0m in \u001b[0;36m_read\u001b[1;34m(filepath_or_buffer, kwds)\u001b[0m\n\u001b[0;32m    460\u001b[0m \u001b[1;33m\u001b[0m\u001b[0m\n\u001b[0;32m    461\u001b[0m     \u001b[1;31m# Create the parser.\u001b[0m\u001b[1;33m\u001b[0m\u001b[1;33m\u001b[0m\u001b[1;33m\u001b[0m\u001b[0m\n\u001b[1;32m--> 462\u001b[1;33m     \u001b[0mparser\u001b[0m \u001b[1;33m=\u001b[0m \u001b[0mTextFileReader\u001b[0m\u001b[1;33m(\u001b[0m\u001b[0mfilepath_or_buffer\u001b[0m\u001b[1;33m,\u001b[0m \u001b[1;33m**\u001b[0m\u001b[0mkwds\u001b[0m\u001b[1;33m)\u001b[0m\u001b[1;33m\u001b[0m\u001b[1;33m\u001b[0m\u001b[0m\n\u001b[0m\u001b[0;32m    463\u001b[0m \u001b[1;33m\u001b[0m\u001b[0m\n\u001b[0;32m    464\u001b[0m     \u001b[1;32mif\u001b[0m \u001b[0mchunksize\u001b[0m \u001b[1;32mor\u001b[0m \u001b[0miterator\u001b[0m\u001b[1;33m:\u001b[0m\u001b[1;33m\u001b[0m\u001b[1;33m\u001b[0m\u001b[0m\n",
      "\u001b[1;32m~\\anaconda3\\lib\\site-packages\\pandas\\io\\parsers.py\u001b[0m in \u001b[0;36m__init__\u001b[1;34m(self, f, engine, **kwds)\u001b[0m\n\u001b[0;32m    817\u001b[0m             \u001b[0mself\u001b[0m\u001b[1;33m.\u001b[0m\u001b[0moptions\u001b[0m\u001b[1;33m[\u001b[0m\u001b[1;34m\"has_index_names\"\u001b[0m\u001b[1;33m]\u001b[0m \u001b[1;33m=\u001b[0m \u001b[0mkwds\u001b[0m\u001b[1;33m[\u001b[0m\u001b[1;34m\"has_index_names\"\u001b[0m\u001b[1;33m]\u001b[0m\u001b[1;33m\u001b[0m\u001b[1;33m\u001b[0m\u001b[0m\n\u001b[0;32m    818\u001b[0m \u001b[1;33m\u001b[0m\u001b[0m\n\u001b[1;32m--> 819\u001b[1;33m         \u001b[0mself\u001b[0m\u001b[1;33m.\u001b[0m\u001b[0m_engine\u001b[0m \u001b[1;33m=\u001b[0m \u001b[0mself\u001b[0m\u001b[1;33m.\u001b[0m\u001b[0m_make_engine\u001b[0m\u001b[1;33m(\u001b[0m\u001b[0mself\u001b[0m\u001b[1;33m.\u001b[0m\u001b[0mengine\u001b[0m\u001b[1;33m)\u001b[0m\u001b[1;33m\u001b[0m\u001b[1;33m\u001b[0m\u001b[0m\n\u001b[0m\u001b[0;32m    820\u001b[0m \u001b[1;33m\u001b[0m\u001b[0m\n\u001b[0;32m    821\u001b[0m     \u001b[1;32mdef\u001b[0m \u001b[0mclose\u001b[0m\u001b[1;33m(\u001b[0m\u001b[0mself\u001b[0m\u001b[1;33m)\u001b[0m\u001b[1;33m:\u001b[0m\u001b[1;33m\u001b[0m\u001b[1;33m\u001b[0m\u001b[0m\n",
      "\u001b[1;32m~\\anaconda3\\lib\\site-packages\\pandas\\io\\parsers.py\u001b[0m in \u001b[0;36m_make_engine\u001b[1;34m(self, engine)\u001b[0m\n\u001b[0;32m   1048\u001b[0m             )\n\u001b[0;32m   1049\u001b[0m         \u001b[1;31m# error: Too many arguments for \"ParserBase\"\u001b[0m\u001b[1;33m\u001b[0m\u001b[1;33m\u001b[0m\u001b[1;33m\u001b[0m\u001b[0m\n\u001b[1;32m-> 1050\u001b[1;33m         \u001b[1;32mreturn\u001b[0m \u001b[0mmapping\u001b[0m\u001b[1;33m[\u001b[0m\u001b[0mengine\u001b[0m\u001b[1;33m]\u001b[0m\u001b[1;33m(\u001b[0m\u001b[0mself\u001b[0m\u001b[1;33m.\u001b[0m\u001b[0mf\u001b[0m\u001b[1;33m,\u001b[0m \u001b[1;33m**\u001b[0m\u001b[0mself\u001b[0m\u001b[1;33m.\u001b[0m\u001b[0moptions\u001b[0m\u001b[1;33m)\u001b[0m  \u001b[1;31m# type: ignore[call-arg]\u001b[0m\u001b[1;33m\u001b[0m\u001b[1;33m\u001b[0m\u001b[0m\n\u001b[0m\u001b[0;32m   1051\u001b[0m \u001b[1;33m\u001b[0m\u001b[0m\n\u001b[0;32m   1052\u001b[0m     \u001b[1;32mdef\u001b[0m \u001b[0m_failover_to_python\u001b[0m\u001b[1;33m(\u001b[0m\u001b[0mself\u001b[0m\u001b[1;33m)\u001b[0m\u001b[1;33m:\u001b[0m\u001b[1;33m\u001b[0m\u001b[1;33m\u001b[0m\u001b[0m\n",
      "\u001b[1;32m~\\anaconda3\\lib\\site-packages\\pandas\\io\\parsers.py\u001b[0m in \u001b[0;36m__init__\u001b[1;34m(self, src, **kwds)\u001b[0m\n\u001b[0;32m   1865\u001b[0m \u001b[1;33m\u001b[0m\u001b[0m\n\u001b[0;32m   1866\u001b[0m         \u001b[1;31m# open handles\u001b[0m\u001b[1;33m\u001b[0m\u001b[1;33m\u001b[0m\u001b[1;33m\u001b[0m\u001b[0m\n\u001b[1;32m-> 1867\u001b[1;33m         \u001b[0mself\u001b[0m\u001b[1;33m.\u001b[0m\u001b[0m_open_handles\u001b[0m\u001b[1;33m(\u001b[0m\u001b[0msrc\u001b[0m\u001b[1;33m,\u001b[0m \u001b[0mkwds\u001b[0m\u001b[1;33m)\u001b[0m\u001b[1;33m\u001b[0m\u001b[1;33m\u001b[0m\u001b[0m\n\u001b[0m\u001b[0;32m   1868\u001b[0m         \u001b[1;32massert\u001b[0m \u001b[0mself\u001b[0m\u001b[1;33m.\u001b[0m\u001b[0mhandles\u001b[0m \u001b[1;32mis\u001b[0m \u001b[1;32mnot\u001b[0m \u001b[1;32mNone\u001b[0m\u001b[1;33m\u001b[0m\u001b[1;33m\u001b[0m\u001b[0m\n\u001b[0;32m   1869\u001b[0m         \u001b[1;32mfor\u001b[0m \u001b[0mkey\u001b[0m \u001b[1;32min\u001b[0m \u001b[1;33m(\u001b[0m\u001b[1;34m\"storage_options\"\u001b[0m\u001b[1;33m,\u001b[0m \u001b[1;34m\"encoding\"\u001b[0m\u001b[1;33m,\u001b[0m \u001b[1;34m\"memory_map\"\u001b[0m\u001b[1;33m,\u001b[0m \u001b[1;34m\"compression\"\u001b[0m\u001b[1;33m)\u001b[0m\u001b[1;33m:\u001b[0m\u001b[1;33m\u001b[0m\u001b[1;33m\u001b[0m\u001b[0m\n",
      "\u001b[1;32m~\\anaconda3\\lib\\site-packages\\pandas\\io\\parsers.py\u001b[0m in \u001b[0;36m_open_handles\u001b[1;34m(self, src, kwds)\u001b[0m\n\u001b[0;32m   1360\u001b[0m         \u001b[0mLet\u001b[0m \u001b[0mthe\u001b[0m \u001b[0mreaders\u001b[0m \u001b[0mopen\u001b[0m \u001b[0mIOHanldes\u001b[0m \u001b[0mafter\u001b[0m \u001b[0mthey\u001b[0m \u001b[0mare\u001b[0m \u001b[0mdone\u001b[0m \u001b[1;32mwith\u001b[0m \u001b[0mtheir\u001b[0m \u001b[0mpotential\u001b[0m \u001b[0mraises\u001b[0m\u001b[1;33m.\u001b[0m\u001b[1;33m\u001b[0m\u001b[1;33m\u001b[0m\u001b[0m\n\u001b[0;32m   1361\u001b[0m         \"\"\"\n\u001b[1;32m-> 1362\u001b[1;33m         self.handles = get_handle(\n\u001b[0m\u001b[0;32m   1363\u001b[0m             \u001b[0msrc\u001b[0m\u001b[1;33m,\u001b[0m\u001b[1;33m\u001b[0m\u001b[1;33m\u001b[0m\u001b[0m\n\u001b[0;32m   1364\u001b[0m             \u001b[1;34m\"r\"\u001b[0m\u001b[1;33m,\u001b[0m\u001b[1;33m\u001b[0m\u001b[1;33m\u001b[0m\u001b[0m\n",
      "\u001b[1;32m~\\anaconda3\\lib\\site-packages\\pandas\\io\\common.py\u001b[0m in \u001b[0;36mget_handle\u001b[1;34m(path_or_buf, mode, encoding, compression, memory_map, is_text, errors, storage_options)\u001b[0m\n\u001b[0;32m    640\u001b[0m                 \u001b[0merrors\u001b[0m \u001b[1;33m=\u001b[0m \u001b[1;34m\"replace\"\u001b[0m\u001b[1;33m\u001b[0m\u001b[1;33m\u001b[0m\u001b[0m\n\u001b[0;32m    641\u001b[0m             \u001b[1;31m# Encoding\u001b[0m\u001b[1;33m\u001b[0m\u001b[1;33m\u001b[0m\u001b[1;33m\u001b[0m\u001b[0m\n\u001b[1;32m--> 642\u001b[1;33m             handle = open(\n\u001b[0m\u001b[0;32m    643\u001b[0m                 \u001b[0mhandle\u001b[0m\u001b[1;33m,\u001b[0m\u001b[1;33m\u001b[0m\u001b[1;33m\u001b[0m\u001b[0m\n\u001b[0;32m    644\u001b[0m                 \u001b[0mioargs\u001b[0m\u001b[1;33m.\u001b[0m\u001b[0mmode\u001b[0m\u001b[1;33m,\u001b[0m\u001b[1;33m\u001b[0m\u001b[1;33m\u001b[0m\u001b[0m\n",
      "\u001b[1;31mFileNotFoundError\u001b[0m: [Errno 2] No such file or directory: ''"
     ]
    }
   ],
   "source": [
    "df_us = pd.read_csv('', delimiter=';', low_memory=False)\n",
    "df_us"
   ]
  },
  {
   "cell_type": "code",
   "execution_count": null,
   "id": "372b3321",
   "metadata": {},
   "outputs": [],
   "source": [
    "df_ope = pd.read_csv('', delimiter=';', low_memory=False)\n",
    "df_ope"
   ]
  },
  {
   "cell_type": "markdown",
   "id": "1046f0c0",
   "metadata": {},
   "source": [
    "Формирование датасетов"
   ]
  },
  {
   "cell_type": "code",
   "execution_count": null,
   "id": "aa3016da",
   "metadata": {},
   "outputs": [],
   "source": [
    "df_us[''] = pd.to_numeric(df_us[''], errors='coerce').astype('Int64')\n",
    "df_ope[''] = pd.to_numeric(df_ope[''], errors='coerce').astype('Int64')"
   ]
  },
  {
   "cell_type": "code",
   "execution_count": null,
   "id": "9fdb5467",
   "metadata": {},
   "outputs": [],
   "source": [
    "plt.figure(figsize=(23, 15))\n",
    "sns.heatmap(df_us.corr(), annot = True, vmin=-1, vmax=1,cmap= 'coolwarm')"
   ]
  },
  {
   "cell_type": "markdown",
   "id": "cdbb350c",
   "metadata": {},
   "source": [
    "На корреляционной карте выше видно, что довольно сильно коррелируют между собой атрибуты:\n",
    "\n"
   ]
  },
  {
   "cell_type": "code",
   "execution_count": null,
   "id": "7c8d5d4c",
   "metadata": {},
   "outputs": [],
   "source": [
    "df = df_us[['', '']].head(1000)\n",
    "df"
   ]
  },
  {
   "cell_type": "markdown",
   "id": "65b35d78",
   "metadata": {},
   "source": [
    "Обработка данных"
   ]
  },
  {
   "cell_type": "code",
   "execution_count": null,
   "id": "81ec9f17",
   "metadata": {},
   "outputs": [],
   "source": [
    "df.dropna(inplace=True)\n",
    "df.reset_index(drop=True, inplace=True)\n"
   ]
  },
  {
   "cell_type": "code",
   "execution_count": null,
   "id": "3b400dae",
   "metadata": {},
   "outputs": [],
   "source": [
    "#Вывод коробчатых диаграм в цикле только по числовым атриубтам\n",
    "for col in df.select_dtypes(exclude=[\"object\", \"datetime64[ns]\"]).columns:\n",
    "    #построение фигуры\n",
    "    plt.figure()\n",
    "    #Заголовк\n",
    "    plt.title(col)\n",
    "    #Вывод диаграммы\n",
    "    sns.boxplot(data=df[col])\n",
    "    plt.show()"
   ]
  },
  {
   "cell_type": "code",
   "execution_count": null,
   "id": "2989fb18",
   "metadata": {},
   "outputs": [],
   "source": [
    "#Очистка выбросов\n",
    "for col in df.select_dtypes(exclude=[\"object\", \"datetime64[ns]\"]).columns:\n",
    "    Q1 = df[col].quantile(0.25)\n",
    "    Q3 = df[col].quantile(0.75)\n",
    "    IQR = Q3 - Q1    #IQR is interquartile range. \n",
    "\n",
    "    filter = (df[col] >= Q1 - 1.5 * IQR) & (df[col] <= Q3 + 1.5 *IQR)\n",
    "    df = df.loc[filter]  "
   ]
  },
  {
   "cell_type": "code",
   "execution_count": null,
   "id": "5d1c1bce",
   "metadata": {},
   "outputs": [],
   "source": [
    "#Вывод коробчатых диаграм в цикле только по числовым атриубтам\n",
    "for col in df.select_dtypes(exclude=[\"object\", \"datetime64[ns]\"]).columns:\n",
    "    #построение фигуры\n",
    "    plt.figure()\n",
    "    #Заголовк\n",
    "    plt.title(col)\n",
    "    #Вывод диаграммы\n",
    "    sns.boxplot(data=df[col])\n",
    "    plt.show()"
   ]
  },
  {
   "cell_type": "markdown",
   "id": "1b04630b",
   "metadata": {},
   "source": [
    "Доп атр"
   ]
  },
  {
   "cell_type": "code",
   "execution_count": null,
   "id": "a7e63813",
   "metadata": {},
   "outputs": [],
   "source": [
    "df[\"\"] = df[\"\"].map(df_ope.groupby(\"\")[\"\"].sum())"
   ]
  },
  {
   "cell_type": "code",
   "execution_count": null,
   "id": "9a2e88e4",
   "metadata": {},
   "outputs": [],
   "source": [
    "df"
   ]
  },
  {
   "cell_type": "markdown",
   "id": "bf95f4bf",
   "metadata": {},
   "source": [
    "Кластеризация"
   ]
  },
  {
   "cell_type": "markdown",
   "id": "13097d97",
   "metadata": {},
   "source": [
    "Переменная для атрибутов и прочее"
   ]
  },
  {
   "cell_type": "code",
   "execution_count": null,
   "id": "aa6887a6",
   "metadata": {},
   "outputs": [],
   "source": [
    "#Помещу их в переменную X\n",
    "X = df[[\"\", \"\", \"\"]]"
   ]
  },
  {
   "cell_type": "code",
   "execution_count": null,
   "id": "ae8a7a03",
   "metadata": {},
   "outputs": [],
   "source": [
    "#обьявляю MinMaxScaler\n",
    "scaler = MinMaxScaler()\n",
    "#преобразую данные\n",
    "X = scaler.fit_transform(X)"
   ]
  },
  {
   "cell_type": "code",
   "execution_count": null,
   "id": "cee6c200",
   "metadata": {},
   "outputs": [],
   "source": [
    "#Обьявляю метод главных компонент\n",
    "pca = PCA(n_components=2)\n",
    "#Применяю его на данных\n",
    "X = pca.fit_transform(X)"
   ]
  },
  {
   "cell_type": "markdown",
   "id": "70245a52",
   "metadata": {},
   "source": [
    "KMeans"
   ]
  },
  {
   "cell_type": "markdown",
   "id": "8b15584f",
   "metadata": {},
   "source": [
    "Определение количества кластров методом локтя. Метод локтя строит график суммы квадратов внутри кластера (WCSS) в зависимости от количества кластеров. "
   ]
  },
  {
   "cell_type": "code",
   "execution_count": null,
   "id": "4cecec12",
   "metadata": {},
   "outputs": [],
   "source": [
    "#Нам нужно определить цикл for, который содержит экземпляры класса KMeans. Этот цикл for будет перебирать номера кластеров с первого по 10\n",
    "for i in range(1, 11):\n",
    "    kmeans = KMeans(n_clusters=i, random_state=0)\n",
    "    kmeans.fit(X)"
   ]
  },
  {
   "cell_type": "code",
   "execution_count": null,
   "id": "ac270a4e",
   "metadata": {},
   "outputs": [],
   "source": [
    "#Затем мы добавляем значения WCSS в наш список. Мы получаем доступ к этим значениям через атрибут инерции объекта KMeans:\n",
    "wcss = []\n",
    "for i in range(1, 11):\n",
    "    kmeans = KMeans(n_clusters=i, random_state=0)\n",
    "    kmeans.fit(X)\n",
    "    wcss.append(kmeans.inertia_)"
   ]
  },
  {
   "cell_type": "code",
   "execution_count": null,
   "id": "7c1954e8",
   "metadata": {},
   "outputs": [],
   "source": [
    "#Наконец, мы можем построить график зависимости WCSS от количества кластеров. Во-первых, давайте импортируем Matplotlib and Seaborn, который позволит нам создавать и форматировать визуализации данных:\n",
    "sns.set()\n",
    "plt.plot(range(1, 11), wcss)\n",
    "plt.title('‘Selecting the Number of Clusters using the Elbow Method’')\n",
    "plt.xlabel('‘Clusters’')\n",
    "plt.ylabel('‘WCSS’')\n",
    "plt.show()"
   ]
  },
  {
   "cell_type": "markdown",
   "id": "feaa4d43",
   "metadata": {},
   "source": [
    "Из этого графика мы видим, что четыре - оптимальное количество кластеров, поскольку именно здесь появляется «изгиб» кривой."
   ]
  },
  {
   "cell_type": "code",
   "execution_count": null,
   "id": "13c5ddf8",
   "metadata": {},
   "outputs": [],
   "source": [
    "#Настройка параметров\n",
    "kmeans = KMeans(n_clusters=4, random_state=0).fit(X)\n",
    "#Предсказание\n",
    "kmpreds = kmeans.predict(X)\n",
    "#Заношу кластеризированные метки в набор данных\n",
    "df[\"KMCLUSTS\"] = kmpreds\n"
   ]
  },
  {
   "cell_type": "code",
   "execution_count": null,
   "id": "8dcc4bc7",
   "metadata": {},
   "outputs": [],
   "source": [
    "customcmap = ListedColormap([\"crimson\", \"mediumblue\", \"darkmagenta\", \"pink\"])\n",
    "\n",
    "fig, ax = plt.subplots(figsize=(8, 6))\n",
    "plt.scatter(X[:, 0], X[:, 1], c=df[\"KMCLUSTS\"], \n",
    " cmap = customcmap)\n",
    "ax.set_xlabel(r'x', fontsize=14)\n",
    "ax.set_ylabel(r'y', fontsize=14)\n",
    "plt.xticks(fontsize=12)\n",
    "plt.yticks(fontsize=12)\n",
    "plt.show()"
   ]
  },
  {
   "cell_type": "code",
   "execution_count": null,
   "id": "d9537414",
   "metadata": {},
   "outputs": [],
   "source": [
    "#Использую метрику calinski_harabasz_score\n",
    "print(sklearn.metrics.calinski_harabasz_score(X, df[\"KMCLUSTS\"]))\n",
    "#Использую метрику davies_bouldin_score\n",
    "print(sklearn.metrics.davies_bouldin_score(X, df[\"KMCLUSTS\"]))"
   ]
  },
  {
   "cell_type": "markdown",
   "id": "bac94f6b",
   "metadata": {},
   "source": [
    "MiniBatchKMeans"
   ]
  },
  {
   "cell_type": "code",
   "execution_count": null,
   "id": "01e9d79d",
   "metadata": {},
   "outputs": [],
   "source": [
    "#Настройка параметров\n",
    "kbmeans = MiniBatchKMeans(n_clusters=4, random_state=0, batch_size=4096)\n",
    "#Заношу кластеризированные метки в набор данных\n",
    "df[\"KBCLUSTS\"] = kbmeans.fit_predict(X)"
   ]
  },
  {
   "cell_type": "code",
   "execution_count": null,
   "id": "94899068",
   "metadata": {},
   "outputs": [],
   "source": [
    "customcmap = ListedColormap([\"crimson\", \"mediumblue\", \"darkmagenta\", \"pink\"])\n",
    "\n",
    "fig, ax = plt.subplots(figsize=(8, 6))\n",
    "plt.scatter(X[:, 0], X[:, 1], c=df[\"KBCLUSTS\"], \n",
    " cmap = customcmap)\n",
    "ax.set_xlabel(r'x', fontsize=14)\n",
    "ax.set_ylabel(r'y', fontsize=14)\n",
    "plt.xticks(fontsize=12)\n",
    "plt.yticks(fontsize=12)\n",
    "plt.show()"
   ]
  },
  {
   "cell_type": "code",
   "execution_count": null,
   "id": "3972e6f1",
   "metadata": {},
   "outputs": [],
   "source": [
    "#Использую метрику calinski_harabasz_score\n",
    "print(sklearn.metrics.calinski_harabasz_score(X, df[\"KBCLUSTS\"]))\n",
    "#Использую метрику davies_bouldin_score\n",
    "print(sklearn.metrics.davies_bouldin_score(X, df[\"KBCLUSTS\"]))"
   ]
  },
  {
   "cell_type": "markdown",
   "id": "5e021938",
   "metadata": {},
   "source": [
    "GaussianMixtures"
   ]
  },
  {
   "cell_type": "code",
   "execution_count": null,
   "id": "645544d0",
   "metadata": {},
   "outputs": [],
   "source": [
    "#Настройка параметров\n",
    "gm = GaussianMixture(n_components=2, random_state=0).fit_predict(X)\n",
    "#Заношу кластеризированные метки в набор данных\n",
    "df[\"GMCLUSTS\"] = gm"
   ]
  },
  {
   "cell_type": "code",
   "execution_count": null,
   "id": "767ddd65",
   "metadata": {},
   "outputs": [],
   "source": [
    "customcmap = ListedColormap([\"crimson\", \"mediumblue\", \"darkmagenta\", \"pink\"])\n",
    "\n",
    "fig, ax = plt.subplots(figsize=(8, 6))\n",
    "plt.scatter(X[:, 0], X[:, 1], c=df[\"GMCLUSTS\"], \n",
    " cmap = customcmap)\n",
    "ax.set_xlabel(r'x', fontsize=14)\n",
    "ax.set_ylabel(r'y', fontsize=14)\n",
    "plt.xticks(fontsize=12)\n",
    "plt.yticks(fontsize=12)\n",
    "plt.show()"
   ]
  },
  {
   "cell_type": "code",
   "execution_count": null,
   "id": "9fa9c0d4",
   "metadata": {},
   "outputs": [],
   "source": [
    "#Использую метрику calinski_harabasz_score\n",
    "print(sklearn.metrics.calinski_harabasz_score(X, df[\"GMCLUSTS\"]))\n",
    "#Использую метрику davies_bouldin_score\n",
    "print(sklearn.metrics.davies_bouldin_score(X, df[\"GMCLUSTS\"]))"
   ]
  },
  {
   "cell_type": "markdown",
   "id": "73a1bb6f",
   "metadata": {},
   "source": [
    "Итог"
   ]
  },
  {
   "cell_type": "markdown",
   "id": "28930e38",
   "metadata": {},
   "source": [
    "Решение"
   ]
  },
  {
   "cell_type": "markdown",
   "id": "25800394",
   "metadata": {},
   "source": [
    "По результатам метрик и визуализаций, лучшим алгоритмом является GussianMixture"
   ]
  },
  {
   "cell_type": "code",
   "execution_count": null,
   "id": "9505279f",
   "metadata": {},
   "outputs": [],
   "source": [
    "# Удаление ненужных атрибутов с кластерами\n",
    "df.drop(columns=['KMCLUSTS', 'KBCLUSTS'], axis=1, inplace=True)"
   ]
  },
  {
   "cell_type": "markdown",
   "id": "cb4de0f4",
   "metadata": {},
   "source": [
    "Сохранение"
   ]
  },
  {
   "cell_type": "code",
   "execution_count": null,
   "id": "2a34b6c5",
   "metadata": {},
   "outputs": [],
   "source": [
    "#df.to_csv('output.csv', index=False, encoding='utf-8-sig')"
   ]
  },
  {
   "cell_type": "markdown",
   "id": "dec74318",
   "metadata": {},
   "source": [
    "Счеты"
   ]
  },
  {
   "cell_type": "markdown",
   "id": "8c26d539",
   "metadata": {},
   "source": [
    "\n",
    "\n",
    "\n",
    "\n"
   ]
  },
  {
   "cell_type": "markdown",
   "id": "df0712d3",
   "metadata": {},
   "source": [
    "lan"
   ]
  },
  {
   "cell_type": "code",
   "execution_count": null,
   "id": "2aed47ee",
   "metadata": {},
   "outputs": [],
   "source": [
    "import sklearn\n",
    "import numpy as np\n",
    "import pandas as pd\n",
    "import seaborn as sns\n",
    "import matplotlib.pyplot as plt\n",
    "from sklearn.preprocessing import MinMaxScaler\n",
    "from sklearn.metrics import classification_report\n",
    "from sklearn.model_selection import train_test_split\n",
    "\n",
    "# Алгоритмы классификации\n",
    "from sklearn.naive_bayes import GaussianNB\n",
    "from sklearn.neighbors import KNeighborsClassifier\n",
    "from sklearn.linear_model import LogisticRegression\n",
    "\n",
    "# Игнорирование ошибок будущих версий\n",
    "from warnings import simplefilter\n",
    "simplefilter(action='ignore', category=FutureWarning)"
   ]
  },
  {
   "cell_type": "markdown",
   "id": "c12a331e",
   "metadata": {},
   "source": [
    "Разведочный анализ"
   ]
  },
  {
   "cell_type": "code",
   "execution_count": null,
   "id": "0e3ada52",
   "metadata": {},
   "outputs": [],
   "source": [
    "# df = pd.read_csv('output.csv')"
   ]
  },
  {
   "cell_type": "code",
   "execution_count": null,
   "id": "6919a371",
   "metadata": {},
   "outputs": [],
   "source": [
    "df"
   ]
  },
  {
   "cell_type": "code",
   "execution_count": null,
   "id": "59901015",
   "metadata": {},
   "outputs": [],
   "source": [
    "skip = ['AGE', 'INCOME_MAIN_AMT', 'ID', 'MM_W_CARD', 'MM_IN_BANK', 'SUM_TRANS']\n",
    "#Категориальные признаки\n",
    "for i in df0.columns:\n",
    "    if i not in skip and i != 'REG_CODE':\n",
    "        sns.catplot(x=i, kind='count', palette='ch:20', data=df)\n",
    "        plt.show()"
   ]
  },
  {
   "cell_type": "code",
   "execution_count": null,
   "id": "09980f4d",
   "metadata": {},
   "outputs": [],
   "source": [
    "sns.catplot(x='', kind='count', palette='ch:20', height=4, aspect=5, data=df)\n",
    "plt.xticks(rotation=90)\n",
    "plt.show()"
   ]
  },
  {
   "cell_type": "code",
   "execution_count": null,
   "id": "9249fe25",
   "metadata": {},
   "outputs": [],
   "source": [
    "newdf = df[['','']].groupby('REG_CODE').sum()\n",
    "newdf.plot(kind='bar')"
   ]
  },
  {
   "cell_type": "code",
   "execution_count": null,
   "id": "0f971fad",
   "metadata": {},
   "outputs": [],
   "source": [
    "newdf = df[['','']].groupby('GENDER').sum()\n",
    "newdf.plot(kind='bar')"
   ]
  },
  {
   "cell_type": "markdown",
   "id": "bf660c4d",
   "metadata": {},
   "source": [
    "Разбиение выборки"
   ]
  },
  {
   "cell_type": "code",
   "execution_count": null,
   "id": "7dfddea7",
   "metadata": {},
   "outputs": [],
   "source": [
    "df.head()"
   ]
  },
  {
   "cell_type": "markdown",
   "id": "337cb4c5",
   "metadata": {},
   "source": [
    "Система рекомендаций будет определять категорию принадлежности, то есть порекомендовать пользователю товар для мужчин или для женщин"
   ]
  },
  {
   "cell_type": "code",
   "execution_count": null,
   "id": "e97dd894",
   "metadata": {},
   "outputs": [],
   "source": [
    "#обьявляю MinMaxScaler\n",
    "scaler = MinMaxScaler()\n",
    "#преобразую данные\n",
    "X = scaler.fit_transform(X)"
   ]
  },
  {
   "cell_type": "code",
   "execution_count": null,
   "id": "b6737cae",
   "metadata": {},
   "outputs": [],
   "source": [
    "#Помещу их в переменную X\n",
    "X = df[[\"AGE\", \"EDUCATION_LEVEL\", \"REG_CODE\", \"GMCLUSTS\"]]\n",
    "y = df[\"GENDER\"]"
   ]
  },
  {
   "cell_type": "code",
   "execution_count": null,
   "id": "003eb75f",
   "metadata": {},
   "outputs": [],
   "source": [
    "#Разделение данных на обучающий и тестовый набор\n",
    "X_train, X_test, y_train, y_test = train_test_split(X, y, test_size=0.3, random_state=42, stratify=y)"
   ]
  },
  {
   "cell_type": "markdown",
   "id": "f4eb42b0",
   "metadata": {},
   "source": [
    "Реализация моделей"
   ]
  },
  {
   "cell_type": "markdown",
   "id": "e39313e9",
   "metadata": {},
   "source": [
    "KNN"
   ]
  },
  {
   "cell_type": "code",
   "execution_count": null,
   "id": "5addd609",
   "metadata": {},
   "outputs": [],
   "source": [
    "#Объявление классификатор\n",
    "neigh = KNeighborsClassifier()\n",
    "#Обучение классификатора\n",
    "neigh.fit(X_train, y_train)"
   ]
  },
  {
   "cell_type": "markdown",
   "id": "f6ad06c7",
   "metadata": {},
   "source": [
    "GaussianNB"
   ]
  },
  {
   "cell_type": "code",
   "execution_count": null,
   "id": "927c3512",
   "metadata": {},
   "outputs": [],
   "source": [
    "#Объявление классификатор\n",
    "gnb = GaussianNB()\n",
    "#Обучение классификатора\n",
    "gnb.fit(X_train, y_train)\n",
    "GaussianNB()"
   ]
  },
  {
   "cell_type": "markdown",
   "id": "a60554f5",
   "metadata": {},
   "source": [
    "LogisticRegression"
   ]
  },
  {
   "cell_type": "code",
   "execution_count": null,
   "id": "7b28f04c",
   "metadata": {},
   "outputs": [],
   "source": [
    "#Объявление классификатор\n",
    "clf = LogisticRegression()\n",
    "#Обучение классификатора\n",
    "clf.fit(X_train, y_train)"
   ]
  },
  {
   "cell_type": "markdown",
   "id": "75c3a624",
   "metadata": {},
   "source": [
    "Метрики\n",
    "Теперь посмотрю на результаты метрик, я буду рассматривать метрики - f1 и accuracy sore, f так же f1 по macro avg"
   ]
  },
  {
   "cell_type": "markdown",
   "id": "b52b25a5",
   "metadata": {},
   "source": [
    "KNN"
   ]
  },
  {
   "cell_type": "code",
   "execution_count": null,
   "id": "3fdf2355",
   "metadata": {},
   "outputs": [],
   "source": [
    "\n",
    "#Вывожу результаты метрик при помощи classification_report\n",
    "print(classification_report(y_test, neigh.predict(X_test)))"
   ]
  },
  {
   "cell_type": "markdown",
   "id": "437b25d4",
   "metadata": {},
   "source": [
    "GaussianNB"
   ]
  },
  {
   "cell_type": "code",
   "execution_count": null,
   "id": "93bb3660",
   "metadata": {},
   "outputs": [],
   "source": [
    "#Вывожу результаты метрик при помощи classification_report\n",
    "print(classification_report(y_test, gnb.predict(X_test)))"
   ]
  },
  {
   "cell_type": "markdown",
   "id": "1d6652b7",
   "metadata": {},
   "source": [
    "LogisticRegression"
   ]
  },
  {
   "cell_type": "code",
   "execution_count": null,
   "id": "286bef36",
   "metadata": {},
   "outputs": [],
   "source": [
    "#Вывожу результаты метрик при помощи classification_report\n",
    "print(classification_report(y_test, clf.predict(X_test)))"
   ]
  },
  {
   "cell_type": "markdown",
   "id": "1c17fc70",
   "metadata": {},
   "source": [
    "Решение\n",
    "По итогам метрик, остановлюсь на алгоритме KNN, так как он имеет самые высокие показатели, по f1 accuracy показал 0.99, и f1 macro avg 0.99. В то время как остальные алгоритмы показали 1, что может оказаться переобучением."
   ]
  },
  {
   "cell_type": "markdown",
   "id": "9d728c54",
   "metadata": {},
   "source": [
    "Оптимизация модели"
   ]
  },
  {
   "cell_type": "code",
   "execution_count": null,
   "id": "7ca1619e",
   "metadata": {},
   "outputs": [],
   "source": [
    "df.head()"
   ]
  },
  {
   "cell_type": "code",
   "execution_count": null,
   "id": "52bb0213",
   "metadata": {},
   "outputs": [],
   "source": [
    "#обьявляю MinMaxScaler\n",
    "scaler = MinMaxScaler()\n",
    "#преобразую данные\n",
    "X = scaler.fit_transform(X)"
   ]
  },
  {
   "cell_type": "code",
   "execution_count": null,
   "id": "71bfa2da",
   "metadata": {},
   "outputs": [],
   "source": [
    "#Помещу их в переменную X\n",
    "X = df[[\"AGE\", \"EDUCATION_LEVEL\", \"REG_CODE\", \"GMCLUSTS\", 'INCOME_MAIN_AMT']]\n",
    "y = df[\"GENDER\"]"
   ]
  },
  {
   "cell_type": "code",
   "execution_count": null,
   "id": "572ca3c9",
   "metadata": {},
   "outputs": [],
   "source": [
    "#Разделение данных на обучающий и тестовый набор\n",
    "X_train, X_test, y_train, y_test = train_test_split(X, y, test_size=0.3, random_state=42, stratify=y)"
   ]
  },
  {
   "cell_type": "markdown",
   "id": "259d4416",
   "metadata": {},
   "source": [
    "Реализация моделей"
   ]
  },
  {
   "cell_type": "code",
   "execution_count": null,
   "id": "85a49e5b",
   "metadata": {},
   "outputs": [],
   "source": [
    "#Объявление классификатор\n",
    "neigh2 = KNeighborsClassifier(n_neighbors=2, leaf_size=10, p=3, n_jobs=-1)\n",
    "#Обучение классификатора\n",
    "neigh2.fit(X_train, y_train)"
   ]
  },
  {
   "cell_type": "markdown",
   "id": "27680334",
   "metadata": {},
   "source": [
    "Метрика"
   ]
  },
  {
   "cell_type": "code",
   "execution_count": null,
   "id": "e3676f48",
   "metadata": {},
   "outputs": [],
   "source": [
    "#Вывожу результаты метрик при помощи classification_report\n",
    "print(classification_report(y_test, neigh2.predict(X_test)))"
   ]
  },
  {
   "cell_type": "markdown",
   "id": "7006c3c0",
   "metadata": {},
   "source": [
    "Модель стала хуже, так что для дальнейшего использования лучше будет оставить первую версию"
   ]
  },
  {
   "cell_type": "markdown",
   "id": "5382f845",
   "metadata": {},
   "source": [
    "Сохранение лучшей модели"
   ]
  },
  {
   "cell_type": "code",
   "execution_count": null,
   "id": "972118f6",
   "metadata": {},
   "outputs": [],
   "source": [
    "import pickle\n",
    "filename = 'finalized_model.sav'\n",
    "pickle.dump(neigh, open(filename, 'wb'))"
   ]
  },
  {
   "cell_type": "markdown",
   "id": "1c1bcc88",
   "metadata": {},
   "source": [
    "загрузка модели"
   ]
  },
  {
   "cell_type": "code",
   "execution_count": null,
   "id": "ce7c54b4",
   "metadata": {},
   "outputs": [],
   "source": [
    "# load the model from disk\n",
    "#loaded_model = pickle.load(open(filename, 'rb'))"
   ]
  },
  {
   "cell_type": "code",
   "execution_count": null,
   "id": "b9940c52",
   "metadata": {},
   "outputs": [],
   "source": [
    "# df.to_csv('output2.csv', index=False, encoding='utf-8-sig')"
   ]
  },
  {
   "cell_type": "code",
   "execution_count": null,
   "id": "40f05184",
   "metadata": {},
   "outputs": [],
   "source": []
  }
 ],
 "metadata": {
  "kernelspec": {
   "display_name": "Python 3",
   "language": "python",
   "name": "python3"
  },
  "language_info": {
   "codemirror_mode": {
    "name": "ipython",
    "version": 3
   },
   "file_extension": ".py",
   "mimetype": "text/x-python",
   "name": "python",
   "nbconvert_exporter": "python",
   "pygments_lexer": "ipython3",
   "version": "3.8.8"
  }
 },
 "nbformat": 4,
 "nbformat_minor": 5
}
