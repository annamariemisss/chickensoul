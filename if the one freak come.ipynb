{
 "cells": [
  {
   "cell_type": "markdown",
   "id": "ec546961",
   "metadata": {
    "id": "ec546961"
   },
   "source": [
    "# Парсинг и предобработка данных"
   ]
  },
  {
   "cell_type": "code",
   "execution_count": 1,
   "id": "c9402f9e",
   "metadata": {
    "id": "c9402f9e"
   },
   "outputs": [],
   "source": [
    "#Импортирование необходимых библиотек\n",
    "import pandas as pd\n",
    "import numpy as np\n",
    "from pprint import pprint\n",
    "import codecs\n",
    "import json\n",
    "import glob\n",
    "pd.set_option('display.max_columns', None)\n",
    "from pandas import json_normalize"
   ]
  },
  {
   "cell_type": "markdown",
   "id": "9353bcff",
   "metadata": {
    "id": "9353bcff"
   },
   "source": [
    "**1 способ**"
   ]
  },
  {
   "cell_type": "code",
   "execution_count": 2,
   "id": "2b026585",
   "metadata": {
    "id": "2b026585"
   },
   "outputs": [
    {
     "ename": "JSONDecodeError",
     "evalue": "Expecting property name enclosed in double quotes: line 2 column 4 (char 5)",
     "output_type": "error",
     "traceback": [
      "\u001b[1;31m---------------------------------------------------------------------------\u001b[0m",
      "\u001b[1;31mJSONDecodeError\u001b[0m                           Traceback (most recent call last)",
      "\u001b[1;32m<ipython-input-2-96fdecba4d23>\u001b[0m in \u001b[0;36m<module>\u001b[1;34m\u001b[0m\n\u001b[0;32m     10\u001b[0m \u001b[1;33m\u001b[0m\u001b[0m\n\u001b[0;32m     11\u001b[0m     \u001b[1;32mwith\u001b[0m \u001b[0mcodecs\u001b[0m\u001b[1;33m.\u001b[0m\u001b[0mopen\u001b[0m\u001b[1;33m(\u001b[0m\u001b[0mfilename\u001b[0m\u001b[1;33m,\u001b[0m \u001b[1;34m'r'\u001b[0m\u001b[1;33m,\u001b[0m \u001b[1;34m'utf-8-sig'\u001b[0m\u001b[1;33m)\u001b[0m \u001b[1;32mas\u001b[0m \u001b[0mjson_file\u001b[0m\u001b[1;33m:\u001b[0m\u001b[1;33m\u001b[0m\u001b[1;33m\u001b[0m\u001b[0m\n\u001b[1;32m---> 12\u001b[1;33m         \u001b[0mdata\u001b[0m \u001b[1;33m=\u001b[0m \u001b[0mjson\u001b[0m\u001b[1;33m.\u001b[0m\u001b[0mload\u001b[0m\u001b[1;33m(\u001b[0m\u001b[0mjson_file\u001b[0m\u001b[1;33m)\u001b[0m\u001b[1;33m\u001b[0m\u001b[1;33m\u001b[0m\u001b[0m\n\u001b[0m\u001b[0;32m     13\u001b[0m \u001b[1;33m\u001b[0m\u001b[0m\n\u001b[0;32m     14\u001b[0m     \u001b[1;32mfor\u001b[0m \u001b[0marticle\u001b[0m \u001b[1;32min\u001b[0m \u001b[0mdata\u001b[0m\u001b[1;33m[\u001b[0m\u001b[1;34m'refs'\u001b[0m\u001b[1;33m]\u001b[0m\u001b[1;33m:\u001b[0m\u001b[1;33m\u001b[0m\u001b[1;33m\u001b[0m\u001b[0m\n",
      "\u001b[1;32m~\\anaconda3\\lib\\json\\__init__.py\u001b[0m in \u001b[0;36mload\u001b[1;34m(fp, cls, object_hook, parse_float, parse_int, parse_constant, object_pairs_hook, **kw)\u001b[0m\n\u001b[0;32m    291\u001b[0m     \u001b[0mkwarg\u001b[0m\u001b[1;33m;\u001b[0m \u001b[0motherwise\u001b[0m\u001b[0;31m \u001b[0m\u001b[0;31m`\u001b[0m\u001b[0;31m`\u001b[0m\u001b[0mJSONDecoder\u001b[0m\u001b[0;31m`\u001b[0m\u001b[0;31m`\u001b[0m \u001b[1;32mis\u001b[0m \u001b[0mused\u001b[0m\u001b[1;33m.\u001b[0m\u001b[1;33m\u001b[0m\u001b[1;33m\u001b[0m\u001b[0m\n\u001b[0;32m    292\u001b[0m     \"\"\"\n\u001b[1;32m--> 293\u001b[1;33m     return loads(fp.read(),\n\u001b[0m\u001b[0;32m    294\u001b[0m         \u001b[0mcls\u001b[0m\u001b[1;33m=\u001b[0m\u001b[0mcls\u001b[0m\u001b[1;33m,\u001b[0m \u001b[0mobject_hook\u001b[0m\u001b[1;33m=\u001b[0m\u001b[0mobject_hook\u001b[0m\u001b[1;33m,\u001b[0m\u001b[1;33m\u001b[0m\u001b[1;33m\u001b[0m\u001b[0m\n\u001b[0;32m    295\u001b[0m         \u001b[0mparse_float\u001b[0m\u001b[1;33m=\u001b[0m\u001b[0mparse_float\u001b[0m\u001b[1;33m,\u001b[0m \u001b[0mparse_int\u001b[0m\u001b[1;33m=\u001b[0m\u001b[0mparse_int\u001b[0m\u001b[1;33m,\u001b[0m\u001b[1;33m\u001b[0m\u001b[1;33m\u001b[0m\u001b[0m\n",
      "\u001b[1;32m~\\anaconda3\\lib\\json\\__init__.py\u001b[0m in \u001b[0;36mloads\u001b[1;34m(s, cls, object_hook, parse_float, parse_int, parse_constant, object_pairs_hook, **kw)\u001b[0m\n\u001b[0;32m    355\u001b[0m             \u001b[0mparse_int\u001b[0m \u001b[1;32mis\u001b[0m \u001b[1;32mNone\u001b[0m \u001b[1;32mand\u001b[0m \u001b[0mparse_float\u001b[0m \u001b[1;32mis\u001b[0m \u001b[1;32mNone\u001b[0m \u001b[1;32mand\u001b[0m\u001b[1;33m\u001b[0m\u001b[1;33m\u001b[0m\u001b[0m\n\u001b[0;32m    356\u001b[0m             parse_constant is None and object_pairs_hook is None and not kw):\n\u001b[1;32m--> 357\u001b[1;33m         \u001b[1;32mreturn\u001b[0m \u001b[0m_default_decoder\u001b[0m\u001b[1;33m.\u001b[0m\u001b[0mdecode\u001b[0m\u001b[1;33m(\u001b[0m\u001b[0ms\u001b[0m\u001b[1;33m)\u001b[0m\u001b[1;33m\u001b[0m\u001b[1;33m\u001b[0m\u001b[0m\n\u001b[0m\u001b[0;32m    358\u001b[0m     \u001b[1;32mif\u001b[0m \u001b[0mcls\u001b[0m \u001b[1;32mis\u001b[0m \u001b[1;32mNone\u001b[0m\u001b[1;33m:\u001b[0m\u001b[1;33m\u001b[0m\u001b[1;33m\u001b[0m\u001b[0m\n\u001b[0;32m    359\u001b[0m         \u001b[0mcls\u001b[0m \u001b[1;33m=\u001b[0m \u001b[0mJSONDecoder\u001b[0m\u001b[1;33m\u001b[0m\u001b[1;33m\u001b[0m\u001b[0m\n",
      "\u001b[1;32m~\\anaconda3\\lib\\json\\decoder.py\u001b[0m in \u001b[0;36mdecode\u001b[1;34m(self, s, _w)\u001b[0m\n\u001b[0;32m    335\u001b[0m \u001b[1;33m\u001b[0m\u001b[0m\n\u001b[0;32m    336\u001b[0m         \"\"\"\n\u001b[1;32m--> 337\u001b[1;33m         \u001b[0mobj\u001b[0m\u001b[1;33m,\u001b[0m \u001b[0mend\u001b[0m \u001b[1;33m=\u001b[0m \u001b[0mself\u001b[0m\u001b[1;33m.\u001b[0m\u001b[0mraw_decode\u001b[0m\u001b[1;33m(\u001b[0m\u001b[0ms\u001b[0m\u001b[1;33m,\u001b[0m \u001b[0midx\u001b[0m\u001b[1;33m=\u001b[0m\u001b[0m_w\u001b[0m\u001b[1;33m(\u001b[0m\u001b[0ms\u001b[0m\u001b[1;33m,\u001b[0m \u001b[1;36m0\u001b[0m\u001b[1;33m)\u001b[0m\u001b[1;33m.\u001b[0m\u001b[0mend\u001b[0m\u001b[1;33m(\u001b[0m\u001b[1;33m)\u001b[0m\u001b[1;33m)\u001b[0m\u001b[1;33m\u001b[0m\u001b[1;33m\u001b[0m\u001b[0m\n\u001b[0m\u001b[0;32m    338\u001b[0m         \u001b[0mend\u001b[0m \u001b[1;33m=\u001b[0m \u001b[0m_w\u001b[0m\u001b[1;33m(\u001b[0m\u001b[0ms\u001b[0m\u001b[1;33m,\u001b[0m \u001b[0mend\u001b[0m\u001b[1;33m)\u001b[0m\u001b[1;33m.\u001b[0m\u001b[0mend\u001b[0m\u001b[1;33m(\u001b[0m\u001b[1;33m)\u001b[0m\u001b[1;33m\u001b[0m\u001b[1;33m\u001b[0m\u001b[0m\n\u001b[0;32m    339\u001b[0m         \u001b[1;32mif\u001b[0m \u001b[0mend\u001b[0m \u001b[1;33m!=\u001b[0m \u001b[0mlen\u001b[0m\u001b[1;33m(\u001b[0m\u001b[0ms\u001b[0m\u001b[1;33m)\u001b[0m\u001b[1;33m:\u001b[0m\u001b[1;33m\u001b[0m\u001b[1;33m\u001b[0m\u001b[0m\n",
      "\u001b[1;32m~\\anaconda3\\lib\\json\\decoder.py\u001b[0m in \u001b[0;36mraw_decode\u001b[1;34m(self, s, idx)\u001b[0m\n\u001b[0;32m    351\u001b[0m         \"\"\"\n\u001b[0;32m    352\u001b[0m         \u001b[1;32mtry\u001b[0m\u001b[1;33m:\u001b[0m\u001b[1;33m\u001b[0m\u001b[1;33m\u001b[0m\u001b[0m\n\u001b[1;32m--> 353\u001b[1;33m             \u001b[0mobj\u001b[0m\u001b[1;33m,\u001b[0m \u001b[0mend\u001b[0m \u001b[1;33m=\u001b[0m \u001b[0mself\u001b[0m\u001b[1;33m.\u001b[0m\u001b[0mscan_once\u001b[0m\u001b[1;33m(\u001b[0m\u001b[0ms\u001b[0m\u001b[1;33m,\u001b[0m \u001b[0midx\u001b[0m\u001b[1;33m)\u001b[0m\u001b[1;33m\u001b[0m\u001b[1;33m\u001b[0m\u001b[0m\n\u001b[0m\u001b[0;32m    354\u001b[0m         \u001b[1;32mexcept\u001b[0m \u001b[0mStopIteration\u001b[0m \u001b[1;32mas\u001b[0m \u001b[0merr\u001b[0m\u001b[1;33m:\u001b[0m\u001b[1;33m\u001b[0m\u001b[1;33m\u001b[0m\u001b[0m\n\u001b[0;32m    355\u001b[0m             \u001b[1;32mraise\u001b[0m \u001b[0mJSONDecodeError\u001b[0m\u001b[1;33m(\u001b[0m\u001b[1;34m\"Expecting value\"\u001b[0m\u001b[1;33m,\u001b[0m \u001b[0ms\u001b[0m\u001b[1;33m,\u001b[0m \u001b[0merr\u001b[0m\u001b[1;33m.\u001b[0m\u001b[0mvalue\u001b[0m\u001b[1;33m)\u001b[0m \u001b[1;32mfrom\u001b[0m \u001b[1;32mNone\u001b[0m\u001b[1;33m\u001b[0m\u001b[1;33m\u001b[0m\u001b[0m\n",
      "\u001b[1;31mJSONDecodeError\u001b[0m: Expecting property name enclosed in double quotes: line 2 column 4 (char 5)"
     ]
    }
   ],
   "source": [
    "#Путь к файлам .geojson\n",
    "path = 'data/Data1'\n",
    "file = glob.glob(path + \"/*.json\")\n",
    "\n",
    "\n",
    "#Цикл для получения файла и его загрузки, используя json.load \n",
    "df_data=[]\n",
    "for filename in file:\n",
    "    name = filename.split(\"\\\\\")[-1][:-5]\n",
    "    \n",
    "    with codecs.open(filename, 'r', 'utf-8-sig') as json_file:  \n",
    "        data = json.load(json_file)\n",
    "           \n",
    "    for article in data['refs']:\n",
    "        if article!=None:\n",
    "            df_data.append([name, article[0], article[1]['day'], article[1]['month'], article[1]['time']])\n",
    "            \n",
    "df_full=pd.DataFrame(data=df_data,columns=['Название файла', 'Пост', 'день публикации', 'месяц публикации', 'время публикации'])"
   ]
  },
  {
   "cell_type": "markdown",
   "id": "48499fb8",
   "metadata": {
    "id": "48499fb8"
   },
   "source": []
  },
  {
   "cell_type": "code",
   "execution_count": 14,
   "id": "16bf2666",
   "metadata": {
    "id": "16bf2666"
   },
   "outputs": [
    {
     "data": {
      "text/html": [
       "<div>\n",
       "<style scoped>\n",
       "    .dataframe tbody tr th:only-of-type {\n",
       "        vertical-align: middle;\n",
       "    }\n",
       "\n",
       "    .dataframe tbody tr th {\n",
       "        vertical-align: top;\n",
       "    }\n",
       "\n",
       "    .dataframe thead th {\n",
       "        text-align: right;\n",
       "    }\n",
       "</style>\n",
       "<table border=\"1\" class=\"dataframe\">\n",
       "  <thead>\n",
       "    <tr style=\"text-align: right;\">\n",
       "      <th></th>\n",
       "      <th>Название файла</th>\n",
       "      <th>Пост</th>\n",
       "      <th>день публикации</th>\n",
       "      <th>месяц публикации</th>\n",
       "      <th>время публикации</th>\n",
       "    </tr>\n",
       "  </thead>\n",
       "  <tbody>\n",
       "  </tbody>\n",
       "</table>\n",
       "</div>"
      ],
      "text/plain": [
       "Empty DataFrame\n",
       "Columns: [Название файла, Пост, день публикации, месяц публикации, время публикации]\n",
       "Index: []"
      ]
     },
     "execution_count": 14,
     "metadata": {},
     "output_type": "execute_result"
    }
   ],
   "source": [
    "df_full.head(5)"
   ]
  },
  {
   "cell_type": "markdown",
   "id": "731006a8",
   "metadata": {
    "id": "731006a8"
   },
   "source": [
    "**2 способ**"
   ]
  },
  {
   "cell_type": "code",
   "execution_count": 15,
   "id": "4d4141fc",
   "metadata": {
    "id": "4d4141fc",
    "scrolled": true
   },
   "outputs": [
    {
     "ename": "JSONDecodeError",
     "evalue": "Expecting property name enclosed in double quotes: line 2 column 4 (char 5)",
     "output_type": "error",
     "traceback": [
      "\u001b[1;31m---------------------------------------------------------------------------\u001b[0m",
      "\u001b[1;31mJSONDecodeError\u001b[0m                           Traceback (most recent call last)",
      "\u001b[1;32m<ipython-input-15-e1015a1f985d>\u001b[0m in \u001b[0;36m<module>\u001b[1;34m\u001b[0m\n\u001b[0;32m      9\u001b[0m     \u001b[0mname\u001b[0m \u001b[1;33m=\u001b[0m \u001b[0mfilename\u001b[0m\u001b[1;33m.\u001b[0m\u001b[0msplit\u001b[0m\u001b[1;33m(\u001b[0m\u001b[1;34m\"\\\\\"\u001b[0m\u001b[1;33m)\u001b[0m\u001b[1;33m[\u001b[0m\u001b[1;33m-\u001b[0m\u001b[1;36m1\u001b[0m\u001b[1;33m]\u001b[0m\u001b[1;33m[\u001b[0m\u001b[1;33m:\u001b[0m\u001b[1;33m-\u001b[0m\u001b[1;36m5\u001b[0m\u001b[1;33m]\u001b[0m\u001b[1;33m\u001b[0m\u001b[1;33m\u001b[0m\u001b[0m\n\u001b[0;32m     10\u001b[0m     \u001b[1;32mwith\u001b[0m \u001b[0mcodecs\u001b[0m\u001b[1;33m.\u001b[0m\u001b[0mopen\u001b[0m\u001b[1;33m(\u001b[0m\u001b[0mfilename\u001b[0m\u001b[1;33m,\u001b[0m \u001b[1;34m'r'\u001b[0m\u001b[1;33m,\u001b[0m \u001b[1;34m'utf-8-sig'\u001b[0m\u001b[1;33m)\u001b[0m \u001b[1;32mas\u001b[0m \u001b[0mjson_file\u001b[0m\u001b[1;33m:\u001b[0m\u001b[1;33m\u001b[0m\u001b[1;33m\u001b[0m\u001b[0m\n\u001b[1;32m---> 11\u001b[1;33m         \u001b[0mdata\u001b[0m \u001b[1;33m=\u001b[0m \u001b[0mjson\u001b[0m\u001b[1;33m.\u001b[0m\u001b[0mload\u001b[0m\u001b[1;33m(\u001b[0m\u001b[0mjson_file\u001b[0m\u001b[1;33m)\u001b[0m\u001b[1;33m\u001b[0m\u001b[1;33m\u001b[0m\u001b[0m\n\u001b[0m\u001b[0;32m     12\u001b[0m \u001b[1;33m\u001b[0m\u001b[0m\n\u001b[0;32m     13\u001b[0m     \u001b[1;32mfor\u001b[0m \u001b[0marticle\u001b[0m \u001b[1;32min\u001b[0m \u001b[0mdata\u001b[0m\u001b[1;33m[\u001b[0m\u001b[1;34m'refs'\u001b[0m\u001b[1;33m]\u001b[0m\u001b[1;33m:\u001b[0m\u001b[1;33m\u001b[0m\u001b[1;33m\u001b[0m\u001b[0m\n",
      "\u001b[1;32m~\\anaconda3\\lib\\json\\__init__.py\u001b[0m in \u001b[0;36mload\u001b[1;34m(fp, cls, object_hook, parse_float, parse_int, parse_constant, object_pairs_hook, **kw)\u001b[0m\n\u001b[0;32m    291\u001b[0m     \u001b[0mkwarg\u001b[0m\u001b[1;33m;\u001b[0m \u001b[0motherwise\u001b[0m\u001b[0;31m \u001b[0m\u001b[0;31m`\u001b[0m\u001b[0;31m`\u001b[0m\u001b[0mJSONDecoder\u001b[0m\u001b[0;31m`\u001b[0m\u001b[0;31m`\u001b[0m \u001b[1;32mis\u001b[0m \u001b[0mused\u001b[0m\u001b[1;33m.\u001b[0m\u001b[1;33m\u001b[0m\u001b[1;33m\u001b[0m\u001b[0m\n\u001b[0;32m    292\u001b[0m     \"\"\"\n\u001b[1;32m--> 293\u001b[1;33m     return loads(fp.read(),\n\u001b[0m\u001b[0;32m    294\u001b[0m         \u001b[0mcls\u001b[0m\u001b[1;33m=\u001b[0m\u001b[0mcls\u001b[0m\u001b[1;33m,\u001b[0m \u001b[0mobject_hook\u001b[0m\u001b[1;33m=\u001b[0m\u001b[0mobject_hook\u001b[0m\u001b[1;33m,\u001b[0m\u001b[1;33m\u001b[0m\u001b[1;33m\u001b[0m\u001b[0m\n\u001b[0;32m    295\u001b[0m         \u001b[0mparse_float\u001b[0m\u001b[1;33m=\u001b[0m\u001b[0mparse_float\u001b[0m\u001b[1;33m,\u001b[0m \u001b[0mparse_int\u001b[0m\u001b[1;33m=\u001b[0m\u001b[0mparse_int\u001b[0m\u001b[1;33m,\u001b[0m\u001b[1;33m\u001b[0m\u001b[1;33m\u001b[0m\u001b[0m\n",
      "\u001b[1;32m~\\anaconda3\\lib\\json\\__init__.py\u001b[0m in \u001b[0;36mloads\u001b[1;34m(s, cls, object_hook, parse_float, parse_int, parse_constant, object_pairs_hook, **kw)\u001b[0m\n\u001b[0;32m    355\u001b[0m             \u001b[0mparse_int\u001b[0m \u001b[1;32mis\u001b[0m \u001b[1;32mNone\u001b[0m \u001b[1;32mand\u001b[0m \u001b[0mparse_float\u001b[0m \u001b[1;32mis\u001b[0m \u001b[1;32mNone\u001b[0m \u001b[1;32mand\u001b[0m\u001b[1;33m\u001b[0m\u001b[1;33m\u001b[0m\u001b[0m\n\u001b[0;32m    356\u001b[0m             parse_constant is None and object_pairs_hook is None and not kw):\n\u001b[1;32m--> 357\u001b[1;33m         \u001b[1;32mreturn\u001b[0m \u001b[0m_default_decoder\u001b[0m\u001b[1;33m.\u001b[0m\u001b[0mdecode\u001b[0m\u001b[1;33m(\u001b[0m\u001b[0ms\u001b[0m\u001b[1;33m)\u001b[0m\u001b[1;33m\u001b[0m\u001b[1;33m\u001b[0m\u001b[0m\n\u001b[0m\u001b[0;32m    358\u001b[0m     \u001b[1;32mif\u001b[0m \u001b[0mcls\u001b[0m \u001b[1;32mis\u001b[0m \u001b[1;32mNone\u001b[0m\u001b[1;33m:\u001b[0m\u001b[1;33m\u001b[0m\u001b[1;33m\u001b[0m\u001b[0m\n\u001b[0;32m    359\u001b[0m         \u001b[0mcls\u001b[0m \u001b[1;33m=\u001b[0m \u001b[0mJSONDecoder\u001b[0m\u001b[1;33m\u001b[0m\u001b[1;33m\u001b[0m\u001b[0m\n",
      "\u001b[1;32m~\\anaconda3\\lib\\json\\decoder.py\u001b[0m in \u001b[0;36mdecode\u001b[1;34m(self, s, _w)\u001b[0m\n\u001b[0;32m    335\u001b[0m \u001b[1;33m\u001b[0m\u001b[0m\n\u001b[0;32m    336\u001b[0m         \"\"\"\n\u001b[1;32m--> 337\u001b[1;33m         \u001b[0mobj\u001b[0m\u001b[1;33m,\u001b[0m \u001b[0mend\u001b[0m \u001b[1;33m=\u001b[0m \u001b[0mself\u001b[0m\u001b[1;33m.\u001b[0m\u001b[0mraw_decode\u001b[0m\u001b[1;33m(\u001b[0m\u001b[0ms\u001b[0m\u001b[1;33m,\u001b[0m \u001b[0midx\u001b[0m\u001b[1;33m=\u001b[0m\u001b[0m_w\u001b[0m\u001b[1;33m(\u001b[0m\u001b[0ms\u001b[0m\u001b[1;33m,\u001b[0m \u001b[1;36m0\u001b[0m\u001b[1;33m)\u001b[0m\u001b[1;33m.\u001b[0m\u001b[0mend\u001b[0m\u001b[1;33m(\u001b[0m\u001b[1;33m)\u001b[0m\u001b[1;33m)\u001b[0m\u001b[1;33m\u001b[0m\u001b[1;33m\u001b[0m\u001b[0m\n\u001b[0m\u001b[0;32m    338\u001b[0m         \u001b[0mend\u001b[0m \u001b[1;33m=\u001b[0m \u001b[0m_w\u001b[0m\u001b[1;33m(\u001b[0m\u001b[0ms\u001b[0m\u001b[1;33m,\u001b[0m \u001b[0mend\u001b[0m\u001b[1;33m)\u001b[0m\u001b[1;33m.\u001b[0m\u001b[0mend\u001b[0m\u001b[1;33m(\u001b[0m\u001b[1;33m)\u001b[0m\u001b[1;33m\u001b[0m\u001b[1;33m\u001b[0m\u001b[0m\n\u001b[0;32m    339\u001b[0m         \u001b[1;32mif\u001b[0m \u001b[0mend\u001b[0m \u001b[1;33m!=\u001b[0m \u001b[0mlen\u001b[0m\u001b[1;33m(\u001b[0m\u001b[0ms\u001b[0m\u001b[1;33m)\u001b[0m\u001b[1;33m:\u001b[0m\u001b[1;33m\u001b[0m\u001b[1;33m\u001b[0m\u001b[0m\n",
      "\u001b[1;32m~\\anaconda3\\lib\\json\\decoder.py\u001b[0m in \u001b[0;36mraw_decode\u001b[1;34m(self, s, idx)\u001b[0m\n\u001b[0;32m    351\u001b[0m         \"\"\"\n\u001b[0;32m    352\u001b[0m         \u001b[1;32mtry\u001b[0m\u001b[1;33m:\u001b[0m\u001b[1;33m\u001b[0m\u001b[1;33m\u001b[0m\u001b[0m\n\u001b[1;32m--> 353\u001b[1;33m             \u001b[0mobj\u001b[0m\u001b[1;33m,\u001b[0m \u001b[0mend\u001b[0m \u001b[1;33m=\u001b[0m \u001b[0mself\u001b[0m\u001b[1;33m.\u001b[0m\u001b[0mscan_once\u001b[0m\u001b[1;33m(\u001b[0m\u001b[0ms\u001b[0m\u001b[1;33m,\u001b[0m \u001b[0midx\u001b[0m\u001b[1;33m)\u001b[0m\u001b[1;33m\u001b[0m\u001b[1;33m\u001b[0m\u001b[0m\n\u001b[0m\u001b[0;32m    354\u001b[0m         \u001b[1;32mexcept\u001b[0m \u001b[0mStopIteration\u001b[0m \u001b[1;32mas\u001b[0m \u001b[0merr\u001b[0m\u001b[1;33m:\u001b[0m\u001b[1;33m\u001b[0m\u001b[1;33m\u001b[0m\u001b[0m\n\u001b[0;32m    355\u001b[0m             \u001b[1;32mraise\u001b[0m \u001b[0mJSONDecodeError\u001b[0m\u001b[1;33m(\u001b[0m\u001b[1;34m\"Expecting value\"\u001b[0m\u001b[1;33m,\u001b[0m \u001b[0ms\u001b[0m\u001b[1;33m,\u001b[0m \u001b[0merr\u001b[0m\u001b[1;33m.\u001b[0m\u001b[0mvalue\u001b[0m\u001b[1;33m)\u001b[0m \u001b[1;32mfrom\u001b[0m \u001b[1;32mNone\u001b[0m\u001b[1;33m\u001b[0m\u001b[1;33m\u001b[0m\u001b[0m\n",
      "\u001b[1;31mJSONDecodeError\u001b[0m: Expecting property name enclosed in double quotes: line 2 column 4 (char 5)"
     ]
    }
   ],
   "source": [
    "#Путь к файлам .geojson\n",
    "path = 'data/Data1'\n",
    "file = glob.glob(path + \"/*.json\")\n",
    "df_full=pd.DataFrame()\n",
    "\n",
    "#df_full=pd.DataFrame(columns=['Пост', 'день публикации', 'месяц публикации', 'время публикации'])\n",
    "#Цикл для получения файла и его загрузки, используя json.load \n",
    "for filename in file:\n",
    "    name = filename.split(\"\\\\\")[-1][:-5]\n",
    "    with codecs.open(filename, 'r', 'utf-8-sig') as json_file:  \n",
    "        data = json.load(json_file)\n",
    "    \n",
    "    for article in data['refs']:  \n",
    "        if article != None:\n",
    "            df=pd.concat(\n",
    "                [\n",
    "                    pd.DataFrame([article[0]],columns=['Post']),\n",
    "                    json_normalize(article[1]),\n",
    "                    pd.DataFrame([name],columns=['Company'])\n",
    "                ],\n",
    "                axis=1\n",
    "            )\n",
    "            df_full=pd.concat([df_full,df],axis=0,ignore_index=True)\n",
    "        "
   ]
  },
  {
   "cell_type": "code",
   "execution_count": 16,
   "id": "82c0edcb",
   "metadata": {
    "id": "82c0edcb"
   },
   "outputs": [
    {
     "name": "stdout",
     "output_type": "stream",
     "text": [
      "<class 'pandas.core.frame.DataFrame'>\n",
      "RangeIndex: 427 entries, 0 to 426\n",
      "Data columns (total 5 columns):\n",
      " #   Column   Non-Null Count  Dtype \n",
      "---  ------   --------------  ----- \n",
      " 0   Post     427 non-null    object\n",
      " 1   day      427 non-null    object\n",
      " 2   month    427 non-null    object\n",
      " 3   time     427 non-null    object\n",
      " 4   Company  427 non-null    object\n",
      "dtypes: object(5)\n",
      "memory usage: 16.8+ KB\n"
     ]
    }
   ],
   "source": [
    "df_full.info()"
   ]
  },
  {
   "cell_type": "code",
   "execution_count": 17,
   "id": "48fcd549",
   "metadata": {
    "id": "48fcd549"
   },
   "outputs": [
    {
     "data": {
      "text/html": [
       "<div>\n",
       "<style scoped>\n",
       "    .dataframe tbody tr th:only-of-type {\n",
       "        vertical-align: middle;\n",
       "    }\n",
       "\n",
       "    .dataframe tbody tr th {\n",
       "        vertical-align: top;\n",
       "    }\n",
       "\n",
       "    .dataframe thead th {\n",
       "        text-align: right;\n",
       "    }\n",
       "</style>\n",
       "<table border=\"1\" class=\"dataframe\">\n",
       "  <thead>\n",
       "    <tr style=\"text-align: right;\">\n",
       "      <th></th>\n",
       "      <th>Post</th>\n",
       "      <th>day</th>\n",
       "      <th>month</th>\n",
       "      <th>time</th>\n",
       "      <th>Company</th>\n",
       "    </tr>\n",
       "  </thead>\n",
       "  <tbody>\n",
       "    <tr>\n",
       "      <th>0</th>\n",
       "      <td>7 декабря состоялась церемония награждения лау...</td>\n",
       "      <td>8</td>\n",
       "      <td>декабря</td>\n",
       "      <td>09:30</td>\n",
       "      <td>Cybersport.Metaratings</td>\n",
       "    </tr>\n",
       "    <tr>\n",
       "      <th>1</th>\n",
       "      <td>7 декабря состоялась церемония награждения лау...</td>\n",
       "      <td>8</td>\n",
       "      <td>декабря</td>\n",
       "      <td>09:30</td>\n",
       "      <td>ESforce Holding</td>\n",
       "    </tr>\n",
       "    <tr>\n",
       "      <th>2</th>\n",
       "      <td>Из совместного исследования издателя компьютер...</td>\n",
       "      <td>29</td>\n",
       "      <td>июля</td>\n",
       "      <td>13:50</td>\n",
       "      <td>ESforce Holding</td>\n",
       "    </tr>\n",
       "    <tr>\n",
       "      <th>3</th>\n",
       "      <td>По статистике The Esports Observer за I полови...</td>\n",
       "      <td>9</td>\n",
       "      <td>июля</td>\n",
       "      <td>09:33</td>\n",
       "      <td>ESforce Holding</td>\n",
       "    </tr>\n",
       "    <tr>\n",
       "      <th>4</th>\n",
       "      <td>Компании SuperData Research и PayPal провели с...</td>\n",
       "      <td>11</td>\n",
       "      <td>апреля</td>\n",
       "      <td>12:43</td>\n",
       "      <td>ESforce Holding</td>\n",
       "    </tr>\n",
       "  </tbody>\n",
       "</table>\n",
       "</div>"
      ],
      "text/plain": [
       "                                                Post day    month   time  \\\n",
       "0  7 декабря состоялась церемония награждения лау...   8  декабря  09:30   \n",
       "1  7 декабря состоялась церемония награждения лау...   8  декабря  09:30   \n",
       "2  Из совместного исследования издателя компьютер...  29     июля  13:50   \n",
       "3  По статистике The Esports Observer за I полови...   9     июля  09:33   \n",
       "4  Компании SuperData Research и PayPal провели с...  11   апреля  12:43   \n",
       "\n",
       "                  Company  \n",
       "0  Cybersport.Metaratings  \n",
       "1         ESforce Holding  \n",
       "2         ESforce Holding  \n",
       "3         ESforce Holding  \n",
       "4         ESforce Holding  "
      ]
     },
     "execution_count": 17,
     "metadata": {},
     "output_type": "execute_result"
    }
   ],
   "source": [
    "df_full.head()"
   ]
  },
  {
   "cell_type": "markdown",
   "id": "c550327a",
   "metadata": {
    "id": "c550327a"
   },
   "source": [
    "Датафрейм с информацией о компании"
   ]
  },
  {
   "cell_type": "code",
   "execution_count": null,
   "id": "ddc5045e",
   "metadata": {
    "id": "ddc5045e"
   },
   "outputs": [],
   "source": [
    "#Путь к файлам .geojson\n",
    "path = 'Data'\n",
    "file = glob.glob(path + \"/*.json\")\n",
    "\n",
    "\n",
    "df = pd.DataFrame(columns=['rate','subs','industries','about','Company']) \n",
    "\n",
    "#Цикл для получения файла и его загрузки, используя json.load \n",
    "for filename in file:\n",
    "    with codecs.open(filename, 'r', 'utf-8-sig') as json_file:  \n",
    "        data = json.load(json_file)\n",
    "        name = filename.split(\"\\\\\")[-1][:-5]   \n",
    "        try:\n",
    "            company_info=pd.concat([json_normalize(data['info']),pd.DataFrame([name],columns=['Company'])],axis=1)\n",
    "        except:\n",
    "            d={'rate':['Не указано'],'subs':['Не указано'],'industries':['Не указано'],'about':['Не указано']}\n",
    "            company_info=pd.concat([pd.DataFrame(d),pd.DataFrame([name],columns=['Company'])],axis=1)\n",
    "    df = pd.concat([df,company_info], axis=0, ignore_index=True)\n",
    "df.head()    \n",
    "   "
   ]
  },
  {
   "cell_type": "code",
   "execution_count": 19,
   "id": "9460c87c",
   "metadata": {
    "id": "9460c87c"
   },
   "outputs": [],
   "source": [
    "tk = df_full.merge(df, on='Company',how='left')"
   ]
  },
  {
   "cell_type": "code",
   "execution_count": 20,
   "id": "231501c3",
   "metadata": {
    "id": "231501c3"
   },
   "outputs": [
    {
     "data": {
      "text/plain": [
       "(427, 9)"
      ]
     },
     "execution_count": 20,
     "metadata": {},
     "output_type": "execute_result"
    }
   ],
   "source": [
    "tk.shape"
   ]
  },
  {
   "cell_type": "code",
   "execution_count": 22,
   "id": "f3aa7367",
   "metadata": {
    "id": "f3aa7367"
   },
   "outputs": [
    {
     "data": {
      "text/html": [
       "<div>\n",
       "<style scoped>\n",
       "    .dataframe tbody tr th:only-of-type {\n",
       "        vertical-align: middle;\n",
       "    }\n",
       "\n",
       "    .dataframe tbody tr th {\n",
       "        vertical-align: top;\n",
       "    }\n",
       "\n",
       "    .dataframe thead th {\n",
       "        text-align: right;\n",
       "    }\n",
       "</style>\n",
       "<table border=\"1\" class=\"dataframe\">\n",
       "  <thead>\n",
       "    <tr style=\"text-align: right;\">\n",
       "      <th></th>\n",
       "      <th>Post</th>\n",
       "      <th>day</th>\n",
       "      <th>month</th>\n",
       "      <th>time</th>\n",
       "      <th>Company</th>\n",
       "    </tr>\n",
       "  </thead>\n",
       "  <tbody>\n",
       "    <tr>\n",
       "      <th>0</th>\n",
       "      <td>7 декабря состоялась церемония награждения лау...</td>\n",
       "      <td>8</td>\n",
       "      <td>декабря</td>\n",
       "      <td>09:30</td>\n",
       "      <td>Cybersport.Metaratings</td>\n",
       "    </tr>\n",
       "    <tr>\n",
       "      <th>1</th>\n",
       "      <td>7 декабря состоялась церемония награждения лау...</td>\n",
       "      <td>8</td>\n",
       "      <td>декабря</td>\n",
       "      <td>09:30</td>\n",
       "      <td>ESforce Holding</td>\n",
       "    </tr>\n",
       "    <tr>\n",
       "      <th>2</th>\n",
       "      <td>Из совместного исследования издателя компьютер...</td>\n",
       "      <td>29</td>\n",
       "      <td>июля</td>\n",
       "      <td>13:50</td>\n",
       "      <td>ESforce Holding</td>\n",
       "    </tr>\n",
       "    <tr>\n",
       "      <th>3</th>\n",
       "      <td>По статистике The Esports Observer за I полови...</td>\n",
       "      <td>9</td>\n",
       "      <td>июля</td>\n",
       "      <td>09:33</td>\n",
       "      <td>ESforce Holding</td>\n",
       "    </tr>\n",
       "    <tr>\n",
       "      <th>4</th>\n",
       "      <td>Компании SuperData Research и PayPal провели с...</td>\n",
       "      <td>11</td>\n",
       "      <td>апреля</td>\n",
       "      <td>12:43</td>\n",
       "      <td>ESforce Holding</td>\n",
       "    </tr>\n",
       "  </tbody>\n",
       "</table>\n",
       "</div>"
      ],
      "text/plain": [
       "                                                Post day    month   time  \\\n",
       "0  7 декабря состоялась церемония награждения лау...   8  декабря  09:30   \n",
       "1  7 декабря состоялась церемония награждения лау...   8  декабря  09:30   \n",
       "2  Из совместного исследования издателя компьютер...  29     июля  13:50   \n",
       "3  По статистике The Esports Observer за I полови...   9     июля  09:33   \n",
       "4  Компании SuperData Research и PayPal провели с...  11   апреля  12:43   \n",
       "\n",
       "                  Company  \n",
       "0  Cybersport.Metaratings  \n",
       "1         ESforce Holding  \n",
       "2         ESforce Holding  \n",
       "3         ESforce Holding  \n",
       "4         ESforce Holding  "
      ]
     },
     "execution_count": 22,
     "metadata": {},
     "output_type": "execute_result"
    }
   ],
   "source": [
    "df_full.head()"
   ]
  },
  {
   "cell_type": "markdown",
   "id": "8b40974c",
   "metadata": {
    "id": "8b40974c"
   },
   "source": [
    "# Обработка текста"
   ]
  },
  {
   "cell_type": "code",
   "execution_count": null,
   "id": "cee2ae35",
   "metadata": {
    "id": "cee2ae35"
   },
   "outputs": [],
   "source": [
    "import pymorphy2\n",
    "import re\n",
    "from nltk.corpus import stopwords\n",
    "from nltk.tokenize import word_tokenize"
   ]
  },
  {
   "cell_type": "code",
   "execution_count": null,
   "id": "b10e3a34",
   "metadata": {
    "id": "b10e3a34"
   },
   "outputs": [],
   "source": [
    "sw = stopwords.words('russian')\n",
    "morph = pymorphy2.MorphAnalyzer()\n",
    "\n",
    "def clear_text(text):\n",
    "    text=text.lower()\n",
    "    text = re.sub(r'[^а-яё ]','', str(text))\n",
    "    tokens=word_tokenize(text, language=\"russian\")\n",
    "    tokens = [morph.parse(i)[0].normal_form for i in tokens]\n",
    "    tokens = [ i for i in tokens if i not in sw and len(i) > 3]\n",
    "    return tokens"
   ]
  },
  {
   "cell_type": "code",
   "execution_count": null,
   "id": "c7eaf47e",
   "metadata": {
    "id": "c7eaf47e"
   },
   "outputs": [],
   "source": [
    "tk['lemmatize_tokens'] = tk['Post'].apply(clear_text)"
   ]
  },
  {
   "cell_type": "code",
   "execution_count": null,
   "id": "37b23768",
   "metadata": {
    "id": "37b23768"
   },
   "outputs": [],
   "source": [
    "tk.head()"
   ]
  },
  {
   "cell_type": "code",
   "execution_count": null,
   "id": "2a7ab516",
   "metadata": {
    "id": "2a7ab516"
   },
   "outputs": [],
   "source": [
    "tk['clear_text'] = tk['lemmatize_tokens'].apply(lambda x: \" \".join(x))"
   ]
  },
  {
   "cell_type": "code",
   "execution_count": null,
   "id": "95b1a5ea",
   "metadata": {
    "id": "95b1a5ea"
   },
   "outputs": [],
   "source": [
    "tk.head()"
   ]
  },
  {
   "cell_type": "code",
   "execution_count": null,
   "id": "2dff1d5f",
   "metadata": {
    "id": "2dff1d5f"
   },
   "outputs": [],
   "source": [
    "tk.to_csv('data.csv', index=False)"
   ]
  },
  {
   "cell_type": "markdown",
   "id": "2a4ec36d",
   "metadata": {
    "id": "2a4ec36d"
   },
   "source": [
    "# Векторизация текста и поиск ngram"
   ]
  },
  {
   "cell_type": "code",
   "execution_count": null,
   "id": "24f8c99f",
   "metadata": {
    "id": "24f8c99f"
   },
   "outputs": [],
   "source": [
    "from sklearn.feature_extraction.text import CountVectorizer, TfidfVectorizer, HashingVectorizer\n"
   ]
  },
  {
   "cell_type": "code",
   "execution_count": null,
   "id": "1627615d",
   "metadata": {
    "id": "1627615d"
   },
   "outputs": [],
   "source": [
    "tfidf = TfidfVectorizer(min_df=5,max_df=0.8, ngram_range=(1, 2))\n",
    "X_tfidf = tfidf.fit_transform(tk['clear_text'])\n",
    "df_tfidf = pd.DataFrame(X_tfidf.toarray(), columns = tfidf.get_feature_names())\n",
    "df_tfidf.head()"
   ]
  },
  {
   "cell_type": "code",
   "execution_count": null,
   "id": "ead63764",
   "metadata": {
    "id": "ead63764"
   },
   "outputs": [],
   "source": [
    "X_tfidf"
   ]
  },
  {
   "cell_type": "code",
   "execution_count": null,
   "id": "e57582e1",
   "metadata": {
    "id": "e57582e1"
   },
   "outputs": [],
   "source": [
    "df_tfidf[\"Company\"]=tk[\"Company\"]"
   ]
  },
  {
   "cell_type": "markdown",
   "id": "6751a300",
   "metadata": {
    "id": "6751a300"
   },
   "source": [
    " # Кластеризация"
   ]
  },
  {
   "cell_type": "code",
   "execution_count": null,
   "id": "f5e79a85",
   "metadata": {
    "id": "f5e79a85"
   },
   "outputs": [],
   "source": [
    "from sklearn.cluster import KMeans, Birch, MiniBatchKMeans\n",
    "from sklearn.decomposition import PCA"
   ]
  },
  {
   "cell_type": "code",
   "execution_count": null,
   "id": "1b5c2461",
   "metadata": {
    "id": "1b5c2461"
   },
   "outputs": [],
   "source": [
    "model = KMeans(n_clusters=5)"
   ]
  },
  {
   "cell_type": "code",
   "execution_count": null,
   "id": "cabd514f",
   "metadata": {
    "id": "cabd514f"
   },
   "outputs": [],
   "source": [
    "reduced_data = PCA(n_components=2).fit_transform(X_tfidf.toarray())\n",
    "model.fit_transform(reduced_data)\n",
    "df_tfidf[\"cluster\"] = model.predict(reduced_data)"
   ]
  },
  {
   "cell_type": "code",
   "execution_count": null,
   "id": "9d6bec22",
   "metadata": {
    "id": "9d6bec22"
   },
   "outputs": [],
   "source": [
    "df_tfidf[\"cluster\"]"
   ]
  },
  {
   "cell_type": "code",
   "execution_count": null,
   "id": "34b07f49",
   "metadata": {
    "id": "34b07f49"
   },
   "outputs": [],
   "source": [
    "from sklearn.metrics import silhouette_score"
   ]
  },
  {
   "cell_type": "code",
   "execution_count": null,
   "id": "c6358be2",
   "metadata": {
    "id": "c6358be2"
   },
   "outputs": [],
   "source": [
    "print(\"silhouette_score -\", silhouette_score(reduced_data, df_tfidf[\"cluster\"]))"
   ]
  },
  {
   "cell_type": "markdown",
   "id": "a3592d81",
   "metadata": {
    "id": "a3592d81"
   },
   "source": [
    "# Классификация"
   ]
  },
  {
   "cell_type": "code",
   "execution_count": null,
   "id": "b947bf13",
   "metadata": {
    "id": "b947bf13"
   },
   "outputs": [],
   "source": [
    "df=pd.read_json(\"Target1.json\")\n",
    "df = df.rename(columns = {\"Сompany\":\"Company\"})\n",
    "df"
   ]
  },
  {
   "cell_type": "code",
   "execution_count": null,
   "id": "3321c137",
   "metadata": {
    "id": "3321c137"
   },
   "outputs": [],
   "source": [
    "df_tfidf[\"Company\"]"
   ]
  },
  {
   "cell_type": "code",
   "execution_count": null,
   "id": "7987015e",
   "metadata": {
    "id": "7987015e"
   },
   "outputs": [],
   "source": [
    "df_tfidf=df_tfidf.merge(df, on='Company')\n",
    "df_tfidf['Nominations']"
   ]
  },
  {
   "cell_type": "code",
   "execution_count": null,
   "id": "a8747425",
   "metadata": {
    "id": "a8747425"
   },
   "outputs": [],
   "source": [
    "import matplotlib.pyplot as plt\n",
    "import seaborn as sns\n",
    "plt.figure(figsize=(10,4))\n",
    "sns.histplot(data=df_tfidf,x='Nominations')"
   ]
  },
  {
   "cell_type": "code",
   "execution_count": null,
   "id": "3f511e9a",
   "metadata": {
    "id": "3f511e9a"
   },
   "outputs": [],
   "source": [
    "from sklearn.model_selection import train_test_split"
   ]
  },
  {
   "cell_type": "code",
   "execution_count": null,
   "id": "db0e4aa9",
   "metadata": {
    "id": "db0e4aa9"
   },
   "outputs": [],
   "source": [
    "x=df_tfidf.drop(['Nominations', \"Company\"], axis=1)\n",
    "y=df_tfidf['Nominations']"
   ]
  },
  {
   "cell_type": "code",
   "execution_count": null,
   "id": "c04d1f9c",
   "metadata": {
    "id": "c04d1f9c"
   },
   "outputs": [],
   "source": [
    "x_train, x_test, y_train, y_test = train_test_split(x, y, test_size=0.30, random_state=42, stratify=y)"
   ]
  },
  {
   "cell_type": "code",
   "execution_count": null,
   "id": "329440ee",
   "metadata": {
    "id": "329440ee"
   },
   "outputs": [],
   "source": [
    "from sklearn.tree import DecisionTreeClassifier as Tree\n"
   ]
  },
  {
   "cell_type": "code",
   "execution_count": null,
   "id": "39664526",
   "metadata": {
    "id": "39664526"
   },
   "outputs": [],
   "source": [
    "tree = Tree(max_depth=20, min_samples_split=4, min_samples_leaf=2)"
   ]
  },
  {
   "cell_type": "code",
   "execution_count": null,
   "id": "3acb17ab",
   "metadata": {
    "id": "3acb17ab"
   },
   "outputs": [],
   "source": [
    "tree.fit(x_train, y_train)"
   ]
  },
  {
   "cell_type": "markdown",
   "id": "68f5e80e",
   "metadata": {
    "id": "68f5e80e"
   },
   "source": [
    "# Оценка модели"
   ]
  },
  {
   "cell_type": "code",
   "execution_count": null,
   "id": "092f6112",
   "metadata": {
    "id": "092f6112"
   },
   "outputs": [],
   "source": [
    "predictions = tree.predict(x_test)"
   ]
  },
  {
   "cell_type": "code",
   "execution_count": null,
   "id": "3c8791d2",
   "metadata": {
    "id": "3c8791d2"
   },
   "outputs": [],
   "source": [
    "from sklearn.metrics import accuracy_score\n",
    "print(accuracy_score(y_test, predictions))"
   ]
  },
  {
   "cell_type": "code",
   "execution_count": null,
   "id": "07cbf740",
   "metadata": {
    "id": "07cbf740"
   },
   "outputs": [],
   "source": []
  },
  {
   "cell_type": "code",
   "execution_count": null,
   "id": "e184875b",
   "metadata": {
    "id": "e184875b"
   },
   "outputs": [],
   "source": []
  }
 ],
 "metadata": {
  "colab": {
   "private_outputs": true,
   "provenance": []
  },
  "gpuClass": "standard",
  "kernelspec": {
   "display_name": "Python 3",
   "language": "python",
   "name": "python3"
  },
  "language_info": {
   "codemirror_mode": {
    "name": "ipython",
    "version": 3
   },
   "file_extension": ".py",
   "mimetype": "text/x-python",
   "name": "python",
   "nbconvert_exporter": "python",
   "pygments_lexer": "ipython3",
   "version": "3.8.8"
  },
  "latex_envs": {
   "LaTeX_envs_menu_present": true,
   "autoclose": false,
   "autocomplete": true,
   "bibliofile": "biblio.bib",
   "cite_by": "apalike",
   "current_citInitial": 1,
   "eqLabelWithNumbers": true,
   "eqNumInitial": 1,
   "hotkeys": {
    "equation": "Ctrl-E",
    "itemize": "Ctrl-I"
   },
   "labels_anchors": false,
   "latex_user_defs": false,
   "report_style_numbering": false,
   "user_envs_cfg": false
  },
  "toc": {
   "base_numbering": 1,
   "nav_menu": {},
   "number_sections": true,
   "sideBar": true,
   "skip_h1_title": false,
   "title_cell": "Table of Contents",
   "title_sidebar": "Contents",
   "toc_cell": false,
   "toc_position": {},
   "toc_section_display": true,
   "toc_window_display": false
  }
 },
 "nbformat": 4,
 "nbformat_minor": 5
}
